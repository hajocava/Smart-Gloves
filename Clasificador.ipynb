{
 "cells": [
  {
   "cell_type": "code",
   "execution_count": 1,
   "metadata": {},
   "outputs": [],
   "source": [
    "import tensorflow as tf\n",
    "import pandas as pd\n",
    "from skimage import io\n",
    "from sklearn.preprocessing import StandardScaler\n",
    "import numpy as np"
   ]
  },
  {
   "cell_type": "code",
   "execution_count": 2,
   "metadata": {},
   "outputs": [],
   "source": [
    "df = pd.read_csv(\"./sensores.csv\")"
   ]
  },
  {
   "cell_type": "code",
   "execution_count": 3,
   "metadata": {},
   "outputs": [],
   "source": [
    "a = np.random.randn(len(df))"
   ]
  },
  {
   "cell_type": "code",
   "execution_count": 4,
   "metadata": {},
   "outputs": [],
   "source": [
    "check = (a<0.8)\n",
    "df_training = df[check] # Me quedo con los registros de mi dataset elegidos como true\n",
    "df_testing = df[~check] # Me quedo con los elegidos como false"
   ]
  },
  {
   "cell_type": "code",
   "execution_count": 5,
   "metadata": {},
   "outputs": [],
   "source": [
    "import sklearn\n",
    "\n",
    "df_training = sklearn.utils.shuffle(df_training)\n",
    "df_testing = sklearn.utils.shuffle(df_testing)"
   ]
  },
  {
   "cell_type": "code",
   "execution_count": 6,
   "metadata": {},
   "outputs": [],
   "source": [
    "y_train = df_training.pop(\"target\")\n",
    "y_test = df_testing.pop(\"target\")"
   ]
  },
  {
   "cell_type": "code",
   "execution_count": 7,
   "metadata": {},
   "outputs": [],
   "source": [
    "dim_input = 10\n",
    "n_categories = 5"
   ]
  },
  {
   "cell_type": "code",
   "execution_count": 8,
   "metadata": {},
   "outputs": [],
   "source": [
    "def getArrayLabels(array):\n",
    "    y_train_labels = np.array([])\n",
    "    y_train_labels = np.zeros((len(array), n_categories))\n",
    "    \n",
    "    for target in enumerate(array):\n",
    "        y_train_labels[target[0]][target[1]] = 1\n",
    "        \n",
    "    return y_train_labels"
   ]
  },
  {
   "cell_type": "code",
   "execution_count": 9,
   "metadata": {},
   "outputs": [],
   "source": [
    "y_train_labels = getArrayLabels(y_train)\n",
    "y_test_labels = getArrayLabels(y_test)"
   ]
  },
  {
   "cell_type": "code",
   "execution_count": 10,
   "metadata": {},
   "outputs": [],
   "source": [
    "# Creo un arreglo con los datos normalizados\n",
    "features = ['ax', 'ay', 'az', 'gx', 'gy', 'gz', 'd1', 'd2', 'd3', 'd4']\n",
    "\n",
    "x_train = df_training.loc[:, features].values\n",
    "x_train = StandardScaler().fit_transform(x_train)\n",
    "\n",
    "x_test = df_testing.loc[:, features].values\n",
    "x_test = StandardScaler().fit_transform(x_test)"
   ]
  },
  {
   "cell_type": "code",
   "execution_count": 11,
   "metadata": {},
   "outputs": [],
   "source": [
    "x=tf.placeholder(tf.float32,[None,dim_input]) #imagen del numero descompuesta a un vector\n",
    "P=tf.Variable(tf.zeros([dim_input,n_categories])) #Matriz de pesos, 784 para recibir la imagen, 10 por las posible salidas\n",
    "b=tf.Variable(tf.zeros([n_categories])) #Vector con bias\n",
    "y=tf.matmul(x,P)+b #La operacion que se hara en los nodos que reciben entradas\n",
    "yR=tf.placeholder(tf.float32,[None,n_categories]) # Matriz con las etiquetas REALES del set de datos"
   ]
  },
  {
   "cell_type": "code",
   "execution_count": 12,
   "metadata": {},
   "outputs": [
    {
     "name": "stdout",
     "output_type": "stream",
     "text": [
      "WARNING:tensorflow:From <ipython-input-12-97f78fb142ca>:1: softmax_cross_entropy_with_logits (from tensorflow.python.ops.nn_ops) is deprecated and will be removed in a future version.\n",
      "Instructions for updating:\n",
      "\n",
      "Future major versions of TensorFlow will allow gradients to flow\n",
      "into the labels input on backprop by default.\n",
      "\n",
      "See `tf.nn.softmax_cross_entropy_with_logits_v2`.\n",
      "\n"
     ]
    }
   ],
   "source": [
    "softmax=tf.nn.softmax_cross_entropy_with_logits(labels=yR,logits=y)\n",
    "costo=tf.reduce_mean(softmax)\n",
    "optimizador=tf.train.GradientDescentOptimizer(0.5).minimize(costo)"
   ]
  },
  {
   "cell_type": "code",
   "execution_count": 13,
   "metadata": {},
   "outputs": [],
   "source": [
    "\n",
    "prediccion = tf.equal(tf.argmax(y, 1), tf.argmax(yR, 1)) #Nos da arreglo de booleanos para decirnos \n",
    "                                                         #cuales estan bien y cuales no\n",
    "accuracy = tf.reduce_mean(tf.cast(prediccion, tf.float32))#Nos da el porcentaje sobre el arreglo de prediccion\n",
    "Produccion = tf.argmax(y,1)\n",
    "init=tf.global_variables_initializer()"
   ]
  },
  {
   "cell_type": "code",
   "execution_count": 14,
   "metadata": {},
   "outputs": [],
   "source": [
    "#Funcion que usaremos para ver que tan bien va a aprendiendo nuestro modelo \n",
    "def avance(epoca_i, sess, last_features, last_labels):\n",
    "    costoActual = sess.run(costo,feed_dict={x: last_features, yR: last_labels})\n",
    "    Certeza = sess.run(accuracy,feed_dict={x:x_test,yR: y_test_labels})\n",
    "    print('Epoca: {:<4} - Costo: {:<8.3} Certeza: {:<5.3}'.format(epoca_i,costoActual,Certeza))"
   ]
  },
  {
   "cell_type": "code",
   "execution_count": 15,
   "metadata": {},
   "outputs": [
    {
     "name": "stdout",
     "output_type": "stream",
     "text": [
      "Epoca: 0    - Costo: 1.19     Certeza: 0.806\n",
      "Epoca: 50   - Costo: 0.178    Certeza: 0.984\n",
      "Epoca: 100  - Costo: 0.126    Certeza: 0.984\n",
      "Epoca: 150  - Costo: 0.0835   Certeza: 0.985\n",
      "Epoca: 200  - Costo: 0.0699   Certeza: 0.985\n",
      "RESULTADO FINAL:  0.9854881\n",
      "Resultado de una imagen [0]\n"
     ]
    }
   ],
   "source": [
    "n_muestras = 150\n",
    "n_epocas = 200\n",
    "\n",
    "with tf.Session() as sess:\n",
    "    sess.run(init)\n",
    "    for epoca_i in range(n_epocas):\n",
    "        offset = (epoca_i * n_muestras) % (y_train_labels.shape[0] - n_muestras)\n",
    "        batch_x = x_train[offset:(offset + n_muestras), :]\n",
    "        batch_y = y_train_labels[offset:(offset + n_muestras)]\n",
    "        sess.run(optimizador, feed_dict={x: batch_x, yR: batch_y})\n",
    "        if (epoca_i%50==0):\n",
    "            avance(epoca_i, sess, batch_x, batch_y)\n",
    "    print('RESULTADO FINAL: ',sess.run(accuracy, feed_dict={x: x_test,yR: y_test_labels}))\n",
    "    print ('Resultado de una imagen',sess.run(Produccion,feed_dict={x: x_train[1].reshape(1,10)}))"
   ]
  },
  {
   "cell_type": "code",
   "execution_count": 16,
   "metadata": {},
   "outputs": [
    {
     "data": {
      "text/plain": [
       "array([[ 0.4692018 , -0.62952065, -1.41018834, -0.39631223, -0.0136433 ,\n",
       "         0.80215451,  1.0652385 ,  0.99643334,  1.35363351,  1.73560247]])"
      ]
     },
     "execution_count": 16,
     "metadata": {},
     "output_type": "execute_result"
    }
   ],
   "source": [
    "x_train[1].reshape(1,10)"
   ]
  },
  {
   "cell_type": "code",
   "execution_count": 17,
   "metadata": {},
   "outputs": [
    {
     "data": {
      "text/plain": [
       "array([1., 0., 0., 0., 0.])"
      ]
     },
     "execution_count": 17,
     "metadata": {},
     "output_type": "execute_result"
    }
   ],
   "source": [
    "y_train_labels[1]"
   ]
  }
 ],
 "metadata": {
  "kernelspec": {
   "display_name": "Python 3",
   "language": "python",
   "name": "python3"
  },
  "language_info": {
   "codemirror_mode": {
    "name": "ipython",
    "version": 3
   },
   "file_extension": ".py",
   "mimetype": "text/x-python",
   "name": "python",
   "nbconvert_exporter": "python",
   "pygments_lexer": "ipython3",
   "version": "3.7.3"
  }
 },
 "nbformat": 4,
 "nbformat_minor": 2
}
