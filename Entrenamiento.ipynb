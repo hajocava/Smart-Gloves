{
 "cells": [
  {
   "cell_type": "code",
   "execution_count": 1,
   "metadata": {},
   "outputs": [],
   "source": [
    "import pandas as pd\n",
    "from sklearn.decomposition import PCA\n",
    "from sklearn.preprocessing import StandardScaler\n",
    "import matplotlib.pyplot as plt\n",
    "from mpl_toolkits.mplot3d import axes3d"
   ]
  },
  {
   "cell_type": "code",
   "execution_count": 2,
   "metadata": {},
   "outputs": [],
   "source": [
    "df = pd.read_csv(\"C:/Users/Haziel/Documents/Tec/Taller de Investigacion 2/Smart Gloves/Codigo/sensores.csv\")"
   ]
  },
  {
   "cell_type": "code",
   "execution_count": 3,
   "metadata": {},
   "outputs": [
    {
     "data": {
      "text/html": [
       "<div>\n",
       "<style scoped>\n",
       "    .dataframe tbody tr th:only-of-type {\n",
       "        vertical-align: middle;\n",
       "    }\n",
       "\n",
       "    .dataframe tbody tr th {\n",
       "        vertical-align: top;\n",
       "    }\n",
       "\n",
       "    .dataframe thead th {\n",
       "        text-align: right;\n",
       "    }\n",
       "</style>\n",
       "<table border=\"1\" class=\"dataframe\">\n",
       "  <thead>\n",
       "    <tr style=\"text-align: right;\">\n",
       "      <th></th>\n",
       "      <th>ax</th>\n",
       "      <th>ay</th>\n",
       "      <th>az</th>\n",
       "      <th>gx</th>\n",
       "      <th>gy</th>\n",
       "      <th>gz</th>\n",
       "      <th>d1</th>\n",
       "      <th>d2</th>\n",
       "      <th>d3</th>\n",
       "      <th>d4</th>\n",
       "      <th>target</th>\n",
       "    </tr>\n",
       "  </thead>\n",
       "  <tbody>\n",
       "    <tr>\n",
       "      <th>0</th>\n",
       "      <td>3427</td>\n",
       "      <td>-1924</td>\n",
       "      <td>15855</td>\n",
       "      <td>669</td>\n",
       "      <td>756</td>\n",
       "      <td>-1437</td>\n",
       "      <td>456.0</td>\n",
       "      <td>434.0</td>\n",
       "      <td>596.0</td>\n",
       "      <td>618.0</td>\n",
       "      <td>0</td>\n",
       "    </tr>\n",
       "    <tr>\n",
       "      <th>1</th>\n",
       "      <td>3475</td>\n",
       "      <td>-1936</td>\n",
       "      <td>15947</td>\n",
       "      <td>649</td>\n",
       "      <td>548</td>\n",
       "      <td>-1391</td>\n",
       "      <td>456.0</td>\n",
       "      <td>442.0</td>\n",
       "      <td>596.0</td>\n",
       "      <td>611.0</td>\n",
       "      <td>0</td>\n",
       "    </tr>\n",
       "    <tr>\n",
       "      <th>2</th>\n",
       "      <td>3623</td>\n",
       "      <td>-1852</td>\n",
       "      <td>15851</td>\n",
       "      <td>747</td>\n",
       "      <td>293</td>\n",
       "      <td>-1302</td>\n",
       "      <td>451.0</td>\n",
       "      <td>421.0</td>\n",
       "      <td>603.0</td>\n",
       "      <td>611.0</td>\n",
       "      <td>0</td>\n",
       "    </tr>\n",
       "    <tr>\n",
       "      <th>3</th>\n",
       "      <td>3751</td>\n",
       "      <td>-1644</td>\n",
       "      <td>15911</td>\n",
       "      <td>702</td>\n",
       "      <td>-65</td>\n",
       "      <td>-1079</td>\n",
       "      <td>451.0</td>\n",
       "      <td>438.0</td>\n",
       "      <td>596.0</td>\n",
       "      <td>603.0</td>\n",
       "      <td>0</td>\n",
       "    </tr>\n",
       "    <tr>\n",
       "      <th>4</th>\n",
       "      <td>3879</td>\n",
       "      <td>-1368</td>\n",
       "      <td>15771</td>\n",
       "      <td>618</td>\n",
       "      <td>-162</td>\n",
       "      <td>-873</td>\n",
       "      <td>456.0</td>\n",
       "      <td>430.0</td>\n",
       "      <td>596.0</td>\n",
       "      <td>618.0</td>\n",
       "      <td>0</td>\n",
       "    </tr>\n",
       "    <tr>\n",
       "      <th>5</th>\n",
       "      <td>3871</td>\n",
       "      <td>-1496</td>\n",
       "      <td>15527</td>\n",
       "      <td>655</td>\n",
       "      <td>-303</td>\n",
       "      <td>-675</td>\n",
       "      <td>456.0</td>\n",
       "      <td>438.0</td>\n",
       "      <td>603.0</td>\n",
       "      <td>611.0</td>\n",
       "      <td>0</td>\n",
       "    </tr>\n",
       "    <tr>\n",
       "      <th>6</th>\n",
       "      <td>3991</td>\n",
       "      <td>-1264</td>\n",
       "      <td>15663</td>\n",
       "      <td>594</td>\n",
       "      <td>-295</td>\n",
       "      <td>-395</td>\n",
       "      <td>451.0</td>\n",
       "      <td>442.0</td>\n",
       "      <td>596.0</td>\n",
       "      <td>611.0</td>\n",
       "      <td>0</td>\n",
       "    </tr>\n",
       "    <tr>\n",
       "      <th>7</th>\n",
       "      <td>3811</td>\n",
       "      <td>-1416</td>\n",
       "      <td>15551</td>\n",
       "      <td>708</td>\n",
       "      <td>-174</td>\n",
       "      <td>-122</td>\n",
       "      <td>461.0</td>\n",
       "      <td>421.0</td>\n",
       "      <td>596.0</td>\n",
       "      <td>611.0</td>\n",
       "      <td>0</td>\n",
       "    </tr>\n",
       "    <tr>\n",
       "      <th>8</th>\n",
       "      <td>3787</td>\n",
       "      <td>-1280</td>\n",
       "      <td>15483</td>\n",
       "      <td>651</td>\n",
       "      <td>-22</td>\n",
       "      <td>130</td>\n",
       "      <td>447.0</td>\n",
       "      <td>405.0</td>\n",
       "      <td>603.0</td>\n",
       "      <td>611.0</td>\n",
       "      <td>0</td>\n",
       "    </tr>\n",
       "    <tr>\n",
       "      <th>9</th>\n",
       "      <td>3483</td>\n",
       "      <td>-1220</td>\n",
       "      <td>15547</td>\n",
       "      <td>676</td>\n",
       "      <td>185</td>\n",
       "      <td>347</td>\n",
       "      <td>456.0</td>\n",
       "      <td>425.0</td>\n",
       "      <td>603.0</td>\n",
       "      <td>611.0</td>\n",
       "      <td>0</td>\n",
       "    </tr>\n",
       "  </tbody>\n",
       "</table>\n",
       "</div>"
      ],
      "text/plain": [
       "     ax    ay     az   gx   gy    gz     d1     d2     d3     d4  target\n",
       "0  3427 -1924  15855  669  756 -1437  456.0  434.0  596.0  618.0       0\n",
       "1  3475 -1936  15947  649  548 -1391  456.0  442.0  596.0  611.0       0\n",
       "2  3623 -1852  15851  747  293 -1302  451.0  421.0  603.0  611.0       0\n",
       "3  3751 -1644  15911  702  -65 -1079  451.0  438.0  596.0  603.0       0\n",
       "4  3879 -1368  15771  618 -162  -873  456.0  430.0  596.0  618.0       0\n",
       "5  3871 -1496  15527  655 -303  -675  456.0  438.0  603.0  611.0       0\n",
       "6  3991 -1264  15663  594 -295  -395  451.0  442.0  596.0  611.0       0\n",
       "7  3811 -1416  15551  708 -174  -122  461.0  421.0  596.0  611.0       0\n",
       "8  3787 -1280  15483  651  -22   130  447.0  405.0  603.0  611.0       0\n",
       "9  3483 -1220  15547  676  185   347  456.0  425.0  603.0  611.0       0"
      ]
     },
     "execution_count": 3,
     "metadata": {},
     "output_type": "execute_result"
    }
   ],
   "source": [
    "# Muestro el dataset con los datos crudos arrojados por el sensor\n",
    "df.head(10)"
   ]
  },
  {
   "cell_type": "code",
   "execution_count": 4,
   "metadata": {},
   "outputs": [
    {
     "data": {
      "text/plain": [
       "(3492, 11)"
      ]
     },
     "execution_count": 4,
     "metadata": {},
     "output_type": "execute_result"
    }
   ],
   "source": [
    "df.shape"
   ]
  },
  {
   "cell_type": "code",
   "execution_count": 5,
   "metadata": {},
   "outputs": [],
   "source": [
    "df_a = df[df[\"target\"] == 0]\n",
    "df_b = df[df[\"target\"] == 1]\n",
    "df_c = df[df[\"target\"] == 2]\n",
    "df_i = df[df[\"target\"] == 3]"
   ]
  },
  {
   "cell_type": "code",
   "execution_count": 6,
   "metadata": {},
   "outputs": [
    {
     "data": {
      "text/plain": [
       "array([[-4.67932287,  0.92516368,  3.65515643, ...,  0.78400095,\n",
       "        -1.09843215,  1.10578125],\n",
       "       [-4.65501225,  0.91869801,  3.70662058, ...,  0.61625512,\n",
       "        -1.05667846,  1.10578125],\n",
       "       [-4.5800545 ,  0.96395771,  3.65291886, ...,  0.41060518,\n",
       "        -0.97589416,  1.06643306],\n",
       "       ...,\n",
       "       [-0.74707993, -0.93048385,  0.56506957, ...,  0.22672994,\n",
       "        -0.12175897,  0.9956063 ],\n",
       "       [-0.53031023, -0.96496743,  0.60982101, ...,  0.3775399 ,\n",
       "        -0.34232736,  0.96412774],\n",
       "       [-0.33177349, -0.97789877,  0.58297015, ...,  0.42996047,\n",
       "        -0.58195721,  0.96412774]])"
      ]
     },
     "execution_count": 6,
     "metadata": {},
     "output_type": "execute_result"
    }
   ],
   "source": [
    "# Creo un arreglo con los datos normalizados\n",
    "features = ['ax', 'ay', 'az', 'gx', 'gy', 'gz', 'd1']\n",
    "x = df.loc[:, features].values\n",
    "x = StandardScaler().fit_transform(x)\n",
    "x"
   ]
  },
  {
   "cell_type": "code",
   "execution_count": 7,
   "metadata": {},
   "outputs": [
    {
     "data": {
      "text/html": [
       "<div>\n",
       "<style scoped>\n",
       "    .dataframe tbody tr th:only-of-type {\n",
       "        vertical-align: middle;\n",
       "    }\n",
       "\n",
       "    .dataframe tbody tr th {\n",
       "        vertical-align: top;\n",
       "    }\n",
       "\n",
       "    .dataframe thead th {\n",
       "        text-align: right;\n",
       "    }\n",
       "</style>\n",
       "<table border=\"1\" class=\"dataframe\">\n",
       "  <thead>\n",
       "    <tr style=\"text-align: right;\">\n",
       "      <th></th>\n",
       "      <th>ax</th>\n",
       "      <th>ay</th>\n",
       "      <th>az</th>\n",
       "      <th>gx</th>\n",
       "      <th>gy</th>\n",
       "      <th>gz</th>\n",
       "      <th>d1</th>\n",
       "    </tr>\n",
       "  </thead>\n",
       "  <tbody>\n",
       "    <tr>\n",
       "      <th>0</th>\n",
       "      <td>-4.679323</td>\n",
       "      <td>0.925164</td>\n",
       "      <td>3.655156</td>\n",
       "      <td>0.354970</td>\n",
       "      <td>0.784001</td>\n",
       "      <td>-1.098432</td>\n",
       "      <td>1.105781</td>\n",
       "    </tr>\n",
       "    <tr>\n",
       "      <th>1</th>\n",
       "      <td>-4.655012</td>\n",
       "      <td>0.918698</td>\n",
       "      <td>3.706621</td>\n",
       "      <td>0.337521</td>\n",
       "      <td>0.616255</td>\n",
       "      <td>-1.056678</td>\n",
       "      <td>1.105781</td>\n",
       "    </tr>\n",
       "    <tr>\n",
       "      <th>2</th>\n",
       "      <td>-4.580054</td>\n",
       "      <td>0.963958</td>\n",
       "      <td>3.652919</td>\n",
       "      <td>0.423018</td>\n",
       "      <td>0.410605</td>\n",
       "      <td>-0.975894</td>\n",
       "      <td>1.066433</td>\n",
       "    </tr>\n",
       "    <tr>\n",
       "      <th>3</th>\n",
       "      <td>-4.515226</td>\n",
       "      <td>1.076029</td>\n",
       "      <td>3.686482</td>\n",
       "      <td>0.383759</td>\n",
       "      <td>0.121889</td>\n",
       "      <td>-0.773480</td>\n",
       "      <td>1.066433</td>\n",
       "    </tr>\n",
       "    <tr>\n",
       "      <th>4</th>\n",
       "      <td>-4.450398</td>\n",
       "      <td>1.224740</td>\n",
       "      <td>3.608167</td>\n",
       "      <td>0.310476</td>\n",
       "      <td>0.043661</td>\n",
       "      <td>-0.586496</td>\n",
       "      <td>1.105781</td>\n",
       "    </tr>\n",
       "  </tbody>\n",
       "</table>\n",
       "</div>"
      ],
      "text/plain": [
       "         ax        ay        az        gx        gy        gz        d1\n",
       "0 -4.679323  0.925164  3.655156  0.354970  0.784001 -1.098432  1.105781\n",
       "1 -4.655012  0.918698  3.706621  0.337521  0.616255 -1.056678  1.105781\n",
       "2 -4.580054  0.963958  3.652919  0.423018  0.410605 -0.975894  1.066433\n",
       "3 -4.515226  1.076029  3.686482  0.383759  0.121889 -0.773480  1.066433\n",
       "4 -4.450398  1.224740  3.608167  0.310476  0.043661 -0.586496  1.105781"
      ]
     },
     "execution_count": 7,
     "metadata": {},
     "output_type": "execute_result"
    }
   ],
   "source": [
    "# Actualizo mi dataframe con los datos normalizados\n",
    "df = pd.DataFrame(data = x, columns = features)\n",
    "df.head()"
   ]
  },
  {
   "cell_type": "code",
   "execution_count": 8,
   "metadata": {},
   "outputs": [
    {
     "data": {
      "image/png": "[encoded data removed]",
      "text/plain": [
       "<Figure size 432x288 with 1 Axes>"
      ]
     },
     "metadata": {
      "needs_background": "light"
     },
     "output_type": "display_data"
    }
   ],
   "source": [
    "# MUESTRO EN 3D LA POSICION DE CADA UNO DE LOS PUNTOS EN AX, AY, AZ\n",
    "fig = plt.figure()\n",
    "ax1 = fig.add_subplot(111, projection='3d')\n",
    "\n",
    "ax1.scatter(df_a[\"ax\"], df_a[\"ay\"], df_a[\"az\"], c='g', marker='*')\n",
    "ax1.scatter(df_b[\"ax\"], df_b[\"ay\"], df_b[\"az\"], c='r', marker='o')\n",
    "ax1.scatter(df_c[\"ax\"], df_c[\"ay\"], df_c[\"az\"], c='b', marker='+')\n",
    "ax1.scatter(df_i[\"ax\"], df_i[\"ay\"], df_i[\"az\"], c='y', marker='p')\n",
    "\n",
    "ax1.set_xlabel('x axis')\n",
    "ax1.set_ylabel('y axis')\n",
    "ax1.set_zlabel('z axis')\n",
    "\n",
    "plt.show()"
   ]
  },
  {
   "cell_type": "code",
   "execution_count": 9,
   "metadata": {},
   "outputs": [
    {
     "data": {
      "text/plain": [
       "<matplotlib.axes._subplots.AxesSubplot at 0x15d32041e10>"
      ]
     },
     "execution_count": 9,
     "metadata": {},
     "output_type": "execute_result"
    },
    {
     "data": {
      "image/png": "[encoded data removed]",
      "text/plain": [
       "<Figure size 432x288 with 1 Axes>"
      ]
     },
     "metadata": {
      "needs_background": "light"
     },
     "output_type": "display_data"
    }
   ],
   "source": [
    "df[\"d1\"].plot(kind='kde')"
   ]
  },
  {
   "cell_type": "markdown",
   "metadata": {},
   "source": [
    "## PCA Projection to 2D\n",
    "#### (Análisis de componentes principales)"
   ]
  },
  {
   "cell_type": "code",
   "execution_count": 10,
   "metadata": {},
   "outputs": [],
   "source": [
    "pca = PCA(n_components=2)"
   ]
  },
  {
   "cell_type": "code",
   "execution_count": 11,
   "metadata": {},
   "outputs": [],
   "source": [
    "principalComponents = pca.fit_transform(x)"
   ]
  },
  {
   "cell_type": "code",
   "execution_count": 12,
   "metadata": {},
   "outputs": [],
   "source": [
    "principalDf = pd.DataFrame(data = principalComponents\n",
    "             , columns = ['principal component 1', 'principal component 2'])"
   ]
  },
  {
   "cell_type": "code",
   "execution_count": 13,
   "metadata": {},
   "outputs": [
    {
     "data": {
      "text/html": [
       "<div>\n",
       "<style scoped>\n",
       "    .dataframe tbody tr th:only-of-type {\n",
       "        vertical-align: middle;\n",
       "    }\n",
       "\n",
       "    .dataframe tbody tr th {\n",
       "        vertical-align: top;\n",
       "    }\n",
       "\n",
       "    .dataframe thead th {\n",
       "        text-align: right;\n",
       "    }\n",
       "</style>\n",
       "<table border=\"1\" class=\"dataframe\">\n",
       "  <thead>\n",
       "    <tr style=\"text-align: right;\">\n",
       "      <th></th>\n",
       "      <th>principal component 1</th>\n",
       "      <th>principal component 2</th>\n",
       "    </tr>\n",
       "  </thead>\n",
       "  <tbody>\n",
       "    <tr>\n",
       "      <th>0</th>\n",
       "      <td>4.918778</td>\n",
       "      <td>-1.351865</td>\n",
       "    </tr>\n",
       "    <tr>\n",
       "      <th>1</th>\n",
       "      <td>4.958001</td>\n",
       "      <td>-1.453953</td>\n",
       "    </tr>\n",
       "    <tr>\n",
       "      <th>2</th>\n",
       "      <td>4.869584</td>\n",
       "      <td>-1.578883</td>\n",
       "    </tr>\n",
       "    <tr>\n",
       "      <th>3</th>\n",
       "      <td>4.856520</td>\n",
       "      <td>-1.854327</td>\n",
       "    </tr>\n",
       "    <tr>\n",
       "      <th>4</th>\n",
       "      <td>4.763665</td>\n",
       "      <td>-2.002451</td>\n",
       "    </tr>\n",
       "  </tbody>\n",
       "</table>\n",
       "</div>"
      ],
      "text/plain": [
       "   principal component 1  principal component 2\n",
       "0               4.918778              -1.351865\n",
       "1               4.958001              -1.453953\n",
       "2               4.869584              -1.578883\n",
       "3               4.856520              -1.854327\n",
       "4               4.763665              -2.002451"
      ]
     },
     "execution_count": 13,
     "metadata": {},
     "output_type": "execute_result"
    }
   ],
   "source": [
    "principalDf.head(5)"
   ]
  },
  {
   "cell_type": "code",
   "execution_count": 14,
   "metadata": {},
   "outputs": [
    {
     "data": {
      "text/plain": [
       "(3492, 2)"
      ]
     },
     "execution_count": 14,
     "metadata": {},
     "output_type": "execute_result"
    }
   ],
   "source": [
    "principalDf.shape"
   ]
  },
  {
   "cell_type": "code",
   "execution_count": 15,
   "metadata": {},
   "outputs": [
    {
     "data": {
      "image/png": "[encoded data removed]",
      "text/plain": [
       "<Figure size 432x288 with 1 Axes>"
      ]
     },
     "metadata": {
      "needs_background": "light"
     },
     "output_type": "display_data"
    }
   ],
   "source": [
    "plt.scatter(principalDf[\"principal component 1\"], principalDf[\"principal component 2\"])\n",
    "plt.xlabel('x')\n",
    "plt.ylabel('y')\n",
    "plt.show()"
   ]
  },
  {
   "cell_type": "code",
   "execution_count": null,
   "metadata": {},
   "outputs": [],
   "source": []
  },
  {
   "cell_type": "code",
   "execution_count": null,
   "metadata": {},
   "outputs": [],
   "source": []
  },
  {
   "cell_type": "code",
   "execution_count": null,
   "metadata": {},
   "outputs": [],
   "source": []
  }
 ],
 "metadata": {
  "kernelspec": {
   "display_name": "Python 3",
   "language": "python",
   "name": "python3"
  },
  "language_info": {
   "codemirror_mode": {
    "name": "ipython",
    "version": 3
   },
   "file_extension": ".py",
   "mimetype": "text/x-python",
   "name": "python",
   "nbconvert_exporter": "python",
   "pygments_lexer": "ipython3",
   "version": "3.7.3"
  }
 },
 "nbformat": 4,
 "nbformat_minor": 2
}
