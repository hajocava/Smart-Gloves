{
 "cells": [
  {
   "cell_type": "code",
   "execution_count": 2,
   "metadata": {},
   "outputs": [],
   "source": [
    "import tensorflow as tf\n",
    "from tensorflow.examples.tutorials.mnist import input_data\n",
    "import pandas as pd\n",
    "from skimage import io\n",
    "from sklearn.preprocessing import StandardScaler\n",
    "import numpy as np\n",
    "import matplotlib.pyplot as plt"
   ]
  },
  {
   "cell_type": "code",
   "execution_count": 3,
   "metadata": {},
   "outputs": [
    {
     "data": {
      "text/html": [
       "<div>\n",
       "<style scoped>\n",
       "    .dataframe tbody tr th:only-of-type {\n",
       "        vertical-align: middle;\n",
       "    }\n",
       "\n",
       "    .dataframe tbody tr th {\n",
       "        vertical-align: top;\n",
       "    }\n",
       "\n",
       "    .dataframe thead th {\n",
       "        text-align: right;\n",
       "    }\n",
       "</style>\n",
       "<table border=\"1\" class=\"dataframe\">\n",
       "  <thead>\n",
       "    <tr style=\"text-align: right;\">\n",
       "      <th></th>\n",
       "      <th>ax</th>\n",
       "      <th>ay</th>\n",
       "      <th>az</th>\n",
       "      <th>gx</th>\n",
       "      <th>gy</th>\n",
       "      <th>gz</th>\n",
       "      <th>d1</th>\n",
       "      <th>d2</th>\n",
       "      <th>d3</th>\n",
       "      <th>d4</th>\n",
       "      <th>target</th>\n",
       "    </tr>\n",
       "  </thead>\n",
       "  <tbody>\n",
       "    <tr>\n",
       "      <th>0</th>\n",
       "      <td>3427</td>\n",
       "      <td>-1924</td>\n",
       "      <td>15855</td>\n",
       "      <td>669</td>\n",
       "      <td>756</td>\n",
       "      <td>-1437</td>\n",
       "      <td>456.0</td>\n",
       "      <td>434.0</td>\n",
       "      <td>596.0</td>\n",
       "      <td>618.0</td>\n",
       "      <td>0</td>\n",
       "    </tr>\n",
       "    <tr>\n",
       "      <th>1</th>\n",
       "      <td>3475</td>\n",
       "      <td>-1936</td>\n",
       "      <td>15947</td>\n",
       "      <td>649</td>\n",
       "      <td>548</td>\n",
       "      <td>-1391</td>\n",
       "      <td>456.0</td>\n",
       "      <td>442.0</td>\n",
       "      <td>596.0</td>\n",
       "      <td>611.0</td>\n",
       "      <td>0</td>\n",
       "    </tr>\n",
       "    <tr>\n",
       "      <th>2</th>\n",
       "      <td>3623</td>\n",
       "      <td>-1852</td>\n",
       "      <td>15851</td>\n",
       "      <td>747</td>\n",
       "      <td>293</td>\n",
       "      <td>-1302</td>\n",
       "      <td>451.0</td>\n",
       "      <td>421.0</td>\n",
       "      <td>603.0</td>\n",
       "      <td>611.0</td>\n",
       "      <td>0</td>\n",
       "    </tr>\n",
       "    <tr>\n",
       "      <th>3</th>\n",
       "      <td>3751</td>\n",
       "      <td>-1644</td>\n",
       "      <td>15911</td>\n",
       "      <td>702</td>\n",
       "      <td>-65</td>\n",
       "      <td>-1079</td>\n",
       "      <td>451.0</td>\n",
       "      <td>438.0</td>\n",
       "      <td>596.0</td>\n",
       "      <td>603.0</td>\n",
       "      <td>0</td>\n",
       "    </tr>\n",
       "    <tr>\n",
       "      <th>4</th>\n",
       "      <td>3879</td>\n",
       "      <td>-1368</td>\n",
       "      <td>15771</td>\n",
       "      <td>618</td>\n",
       "      <td>-162</td>\n",
       "      <td>-873</td>\n",
       "      <td>456.0</td>\n",
       "      <td>430.0</td>\n",
       "      <td>596.0</td>\n",
       "      <td>618.0</td>\n",
       "      <td>0</td>\n",
       "    </tr>\n",
       "  </tbody>\n",
       "</table>\n",
       "</div>"
      ],
      "text/plain": [
       "     ax    ay     az   gx   gy    gz     d1     d2     d3     d4  target\n",
       "0  3427 -1924  15855  669  756 -1437  456.0  434.0  596.0  618.0       0\n",
       "1  3475 -1936  15947  649  548 -1391  456.0  442.0  596.0  611.0       0\n",
       "2  3623 -1852  15851  747  293 -1302  451.0  421.0  603.0  611.0       0\n",
       "3  3751 -1644  15911  702  -65 -1079  451.0  438.0  596.0  603.0       0\n",
       "4  3879 -1368  15771  618 -162  -873  456.0  430.0  596.0  618.0       0"
      ]
     },
     "execution_count": 3,
     "metadata": {},
     "output_type": "execute_result"
    }
   ],
   "source": [
    "df = pd.read_csv(\"C:/Users/Haziel/Documents/Tec/Taller de Investigacion 2/Smart Gloves/Codigo/sensores.csv\")\n",
    "df.head()"
   ]
  },
  {
   "cell_type": "code",
   "execution_count": 3,
   "metadata": {},
   "outputs": [
    {
     "data": {
      "text/html": [
       "<div>\n",
       "<style scoped>\n",
       "    .dataframe tbody tr th:only-of-type {\n",
       "        vertical-align: middle;\n",
       "    }\n",
       "\n",
       "    .dataframe tbody tr th {\n",
       "        vertical-align: top;\n",
       "    }\n",
       "\n",
       "    .dataframe thead th {\n",
       "        text-align: right;\n",
       "    }\n",
       "</style>\n",
       "<table border=\"1\" class=\"dataframe\">\n",
       "  <thead>\n",
       "    <tr style=\"text-align: right;\">\n",
       "      <th></th>\n",
       "      <th>ax</th>\n",
       "      <th>ay</th>\n",
       "      <th>az</th>\n",
       "      <th>gx</th>\n",
       "      <th>gy</th>\n",
       "      <th>gz</th>\n",
       "      <th>d1</th>\n",
       "      <th>d2</th>\n",
       "      <th>d3</th>\n",
       "      <th>d4</th>\n",
       "    </tr>\n",
       "    <tr>\n",
       "      <th>target</th>\n",
       "      <th></th>\n",
       "      <th></th>\n",
       "      <th></th>\n",
       "      <th></th>\n",
       "      <th></th>\n",
       "      <th></th>\n",
       "      <th></th>\n",
       "      <th></th>\n",
       "      <th></th>\n",
       "      <th></th>\n",
       "    </tr>\n",
       "  </thead>\n",
       "  <tbody>\n",
       "    <tr>\n",
       "      <th>0</th>\n",
       "      <td>10567.569083</td>\n",
       "      <td>-5645.707250</td>\n",
       "      <td>10365.621067</td>\n",
       "      <td>164.218878</td>\n",
       "      <td>-447.131327</td>\n",
       "      <td>-233.299590</td>\n",
       "      <td>456.114911</td>\n",
       "      <td>425.012312</td>\n",
       "      <td>590.487004</td>\n",
       "      <td>610.514364</td>\n",
       "    </tr>\n",
       "    <tr>\n",
       "      <th>1</th>\n",
       "      <td>13494.983871</td>\n",
       "      <td>-3789.892473</td>\n",
       "      <td>8567.811828</td>\n",
       "      <td>280.037634</td>\n",
       "      <td>-115.611559</td>\n",
       "      <td>-284.416667</td>\n",
       "      <td>175.326613</td>\n",
       "      <td>184.555108</td>\n",
       "      <td>216.622312</td>\n",
       "      <td>193.672043</td>\n",
       "    </tr>\n",
       "    <tr>\n",
       "      <th>2</th>\n",
       "      <td>11952.331115</td>\n",
       "      <td>-3504.732113</td>\n",
       "      <td>10582.407654</td>\n",
       "      <td>303.041597</td>\n",
       "      <td>-214.049917</td>\n",
       "      <td>-232.527454</td>\n",
       "      <td>312.632280</td>\n",
       "      <td>297.309484</td>\n",
       "      <td>359.505824</td>\n",
       "      <td>274.281198</td>\n",
       "    </tr>\n",
       "    <tr>\n",
       "      <th>3</th>\n",
       "      <td>13840.838765</td>\n",
       "      <td>-1584.542024</td>\n",
       "      <td>8759.782161</td>\n",
       "      <td>353.087479</td>\n",
       "      <td>-167.595197</td>\n",
       "      <td>-251.571184</td>\n",
       "      <td>156.144082</td>\n",
       "      <td>327.986278</td>\n",
       "      <td>464.072041</td>\n",
       "      <td>397.747856</td>\n",
       "    </tr>\n",
       "    <tr>\n",
       "      <th>4</th>\n",
       "      <td>13460.013205</td>\n",
       "      <td>-3286.636255</td>\n",
       "      <td>8559.081633</td>\n",
       "      <td>238.831933</td>\n",
       "      <td>-138.698679</td>\n",
       "      <td>-148.410564</td>\n",
       "      <td>430.847539</td>\n",
       "      <td>356.833133</td>\n",
       "      <td>436.444178</td>\n",
       "      <td>191.217287</td>\n",
       "    </tr>\n",
       "  </tbody>\n",
       "</table>\n",
       "</div>"
      ],
      "text/plain": [
       "                  ax           ay            az          gx          gy  \\\n",
       "target                                                                    \n",
       "0       10567.569083 -5645.707250  10365.621067  164.218878 -447.131327   \n",
       "1       13494.983871 -3789.892473   8567.811828  280.037634 -115.611559   \n",
       "2       11952.331115 -3504.732113  10582.407654  303.041597 -214.049917   \n",
       "3       13840.838765 -1584.542024   8759.782161  353.087479 -167.595197   \n",
       "4       13460.013205 -3286.636255   8559.081633  238.831933 -138.698679   \n",
       "\n",
       "                gz          d1          d2          d3          d4  \n",
       "target                                                              \n",
       "0      -233.299590  456.114911  425.012312  590.487004  610.514364  \n",
       "1      -284.416667  175.326613  184.555108  216.622312  193.672043  \n",
       "2      -232.527454  312.632280  297.309484  359.505824  274.281198  \n",
       "3      -251.571184  156.144082  327.986278  464.072041  397.747856  \n",
       "4      -148.410564  430.847539  356.833133  436.444178  191.217287  "
      ]
     },
     "execution_count": 3,
     "metadata": {},
     "output_type": "execute_result"
    }
   ],
   "source": [
    "df.groupby(\"target\").mean()"
   ]
  },
  {
   "cell_type": "code",
   "execution_count": 4,
   "metadata": {},
   "outputs": [
    {
     "data": {
      "text/plain": [
       "(3492, 11)"
      ]
     },
     "execution_count": 4,
     "metadata": {},
     "output_type": "execute_result"
    }
   ],
   "source": [
    "df.shape"
   ]
  },
  {
   "cell_type": "markdown",
   "metadata": {},
   "source": [
    "# Dividir dataset en conjunto de entrenamiento y validacion\n",
    "### Dividir utilizando la distribución normal"
   ]
  },
  {
   "cell_type": "code",
   "execution_count": 5,
   "metadata": {},
   "outputs": [],
   "source": [
    "a = np.random.randn(len(df))"
   ]
  },
  {
   "cell_type": "code",
   "execution_count": 6,
   "metadata": {},
   "outputs": [
    {
     "data": {
      "text/plain": [
       "(array([  3.,  19., 113., 411., 759., 972., 713., 373., 113.,  16.]),\n",
       " array([-3.94449423, -3.22636654, -2.50823885, -1.79011116, -1.07198346,\n",
       "        -0.35385577,  0.36427192,  1.08239961,  1.80052731,  2.518655  ,\n",
       "         3.23678269]),\n",
       " <a list of 10 Patch objects>)"
      ]
     },
     "execution_count": 6,
     "metadata": {},
     "output_type": "execute_result"
    },
    {
     "data": {
      "image/png": "[encoded data removed]",
      "text/plain": [
       "<Figure size 432x288 with 1 Axes>"
      ]
     },
     "metadata": {
      "needs_background": "light"
     },
     "output_type": "display_data"
    }
   ],
   "source": [
    "plt.hist(a)"
   ]
  },
  {
   "cell_type": "code",
   "execution_count": 7,
   "metadata": {},
   "outputs": [],
   "source": [
    "check = (a<0.8)"
   ]
  },
  {
   "cell_type": "code",
   "execution_count": 8,
   "metadata": {},
   "outputs": [
    {
     "data": {
      "text/plain": [
       "(3492,)"
      ]
     },
     "execution_count": 8,
     "metadata": {},
     "output_type": "execute_result"
    }
   ],
   "source": [
    "check.shape"
   ]
  },
  {
   "cell_type": "code",
   "execution_count": 9,
   "metadata": {},
   "outputs": [],
   "source": [
    "df_training = df[check] # Me quedo con los registros de mi dataset elegidos como true\n",
    "df_testing = df[~check] # Me quedo con los elegidos como false"
   ]
  },
  {
   "cell_type": "code",
   "execution_count": 10,
   "metadata": {},
   "outputs": [
    {
     "data": {
      "text/plain": [
       "2766"
      ]
     },
     "execution_count": 10,
     "metadata": {},
     "output_type": "execute_result"
    }
   ],
   "source": [
    "len(df_training) # 80% de los datos"
   ]
  },
  {
   "cell_type": "code",
   "execution_count": 11,
   "metadata": {},
   "outputs": [
    {
     "data": {
      "text/plain": [
       "726"
      ]
     },
     "execution_count": 11,
     "metadata": {},
     "output_type": "execute_result"
    }
   ],
   "source": [
    "len(df_testing) # 20% de los datos"
   ]
  },
  {
   "cell_type": "markdown",
   "metadata": {},
   "source": [
    "#### ## Usando una funcion de shuffle para revolver mis registros"
   ]
  },
  {
   "cell_type": "code",
   "execution_count": 12,
   "metadata": {},
   "outputs": [
    {
     "data": {
      "text/html": [
       "<div>\n",
       "<style scoped>\n",
       "    .dataframe tbody tr th:only-of-type {\n",
       "        vertical-align: middle;\n",
       "    }\n",
       "\n",
       "    .dataframe tbody tr th {\n",
       "        vertical-align: top;\n",
       "    }\n",
       "\n",
       "    .dataframe thead th {\n",
       "        text-align: right;\n",
       "    }\n",
       "</style>\n",
       "<table border=\"1\" class=\"dataframe\">\n",
       "  <thead>\n",
       "    <tr style=\"text-align: right;\">\n",
       "      <th></th>\n",
       "      <th>ax</th>\n",
       "      <th>ay</th>\n",
       "      <th>az</th>\n",
       "      <th>gx</th>\n",
       "      <th>gy</th>\n",
       "      <th>gz</th>\n",
       "      <th>d1</th>\n",
       "      <th>d2</th>\n",
       "      <th>d3</th>\n",
       "      <th>d4</th>\n",
       "      <th>target</th>\n",
       "    </tr>\n",
       "  </thead>\n",
       "  <tbody>\n",
       "    <tr>\n",
       "      <th>0</th>\n",
       "      <td>3427</td>\n",
       "      <td>-1924</td>\n",
       "      <td>15855</td>\n",
       "      <td>669</td>\n",
       "      <td>756</td>\n",
       "      <td>-1437</td>\n",
       "      <td>456.0</td>\n",
       "      <td>434.0</td>\n",
       "      <td>596.0</td>\n",
       "      <td>618.0</td>\n",
       "      <td>0</td>\n",
       "    </tr>\n",
       "    <tr>\n",
       "      <th>1</th>\n",
       "      <td>3475</td>\n",
       "      <td>-1936</td>\n",
       "      <td>15947</td>\n",
       "      <td>649</td>\n",
       "      <td>548</td>\n",
       "      <td>-1391</td>\n",
       "      <td>456.0</td>\n",
       "      <td>442.0</td>\n",
       "      <td>596.0</td>\n",
       "      <td>611.0</td>\n",
       "      <td>0</td>\n",
       "    </tr>\n",
       "    <tr>\n",
       "      <th>3</th>\n",
       "      <td>3751</td>\n",
       "      <td>-1644</td>\n",
       "      <td>15911</td>\n",
       "      <td>702</td>\n",
       "      <td>-65</td>\n",
       "      <td>-1079</td>\n",
       "      <td>451.0</td>\n",
       "      <td>438.0</td>\n",
       "      <td>596.0</td>\n",
       "      <td>603.0</td>\n",
       "      <td>0</td>\n",
       "    </tr>\n",
       "    <tr>\n",
       "      <th>4</th>\n",
       "      <td>3879</td>\n",
       "      <td>-1368</td>\n",
       "      <td>15771</td>\n",
       "      <td>618</td>\n",
       "      <td>-162</td>\n",
       "      <td>-873</td>\n",
       "      <td>456.0</td>\n",
       "      <td>430.0</td>\n",
       "      <td>596.0</td>\n",
       "      <td>618.0</td>\n",
       "      <td>0</td>\n",
       "    </tr>\n",
       "    <tr>\n",
       "      <th>5</th>\n",
       "      <td>3871</td>\n",
       "      <td>-1496</td>\n",
       "      <td>15527</td>\n",
       "      <td>655</td>\n",
       "      <td>-303</td>\n",
       "      <td>-675</td>\n",
       "      <td>456.0</td>\n",
       "      <td>438.0</td>\n",
       "      <td>603.0</td>\n",
       "      <td>611.0</td>\n",
       "      <td>0</td>\n",
       "    </tr>\n",
       "  </tbody>\n",
       "</table>\n",
       "</div>"
      ],
      "text/plain": [
       "     ax    ay     az   gx   gy    gz     d1     d2     d3     d4  target\n",
       "0  3427 -1924  15855  669  756 -1437  456.0  434.0  596.0  618.0       0\n",
       "1  3475 -1936  15947  649  548 -1391  456.0  442.0  596.0  611.0       0\n",
       "3  3751 -1644  15911  702  -65 -1079  451.0  438.0  596.0  603.0       0\n",
       "4  3879 -1368  15771  618 -162  -873  456.0  430.0  596.0  618.0       0\n",
       "5  3871 -1496  15527  655 -303  -675  456.0  438.0  603.0  611.0       0"
      ]
     },
     "execution_count": 12,
     "metadata": {},
     "output_type": "execute_result"
    }
   ],
   "source": [
    "df_training.head()"
   ]
  },
  {
   "cell_type": "code",
   "execution_count": 13,
   "metadata": {},
   "outputs": [],
   "source": [
    "import sklearn\n",
    "\n",
    "df_training = sklearn.utils.shuffle(df_training)\n",
    "df_testing = sklearn.utils.shuffle(df_testing)"
   ]
  },
  {
   "cell_type": "code",
   "execution_count": 14,
   "metadata": {},
   "outputs": [
    {
     "data": {
      "text/html": [
       "<div>\n",
       "<style scoped>\n",
       "    .dataframe tbody tr th:only-of-type {\n",
       "        vertical-align: middle;\n",
       "    }\n",
       "\n",
       "    .dataframe tbody tr th {\n",
       "        vertical-align: top;\n",
       "    }\n",
       "\n",
       "    .dataframe thead th {\n",
       "        text-align: right;\n",
       "    }\n",
       "</style>\n",
       "<table border=\"1\" class=\"dataframe\">\n",
       "  <thead>\n",
       "    <tr style=\"text-align: right;\">\n",
       "      <th></th>\n",
       "      <th>ax</th>\n",
       "      <th>ay</th>\n",
       "      <th>az</th>\n",
       "      <th>gx</th>\n",
       "      <th>gy</th>\n",
       "      <th>gz</th>\n",
       "      <th>d1</th>\n",
       "      <th>d2</th>\n",
       "      <th>d3</th>\n",
       "      <th>d4</th>\n",
       "      <th>target</th>\n",
       "    </tr>\n",
       "  </thead>\n",
       "  <tbody>\n",
       "    <tr>\n",
       "      <th>351</th>\n",
       "      <td>11819</td>\n",
       "      <td>-5040</td>\n",
       "      <td>9483</td>\n",
       "      <td>545</td>\n",
       "      <td>-855</td>\n",
       "      <td>-185</td>\n",
       "      <td>461.0</td>\n",
       "      <td>421.0</td>\n",
       "      <td>588.0</td>\n",
       "      <td>603.0</td>\n",
       "      <td>0</td>\n",
       "    </tr>\n",
       "    <tr>\n",
       "      <th>3110</th>\n",
       "      <td>13051</td>\n",
       "      <td>-4224</td>\n",
       "      <td>9335</td>\n",
       "      <td>992</td>\n",
       "      <td>-1149</td>\n",
       "      <td>625</td>\n",
       "      <td>447.0</td>\n",
       "      <td>370.0</td>\n",
       "      <td>417.0</td>\n",
       "      <td>180.0</td>\n",
       "      <td>4</td>\n",
       "    </tr>\n",
       "    <tr>\n",
       "      <th>1756</th>\n",
       "      <td>11939</td>\n",
       "      <td>-3120</td>\n",
       "      <td>10231</td>\n",
       "      <td>4631</td>\n",
       "      <td>-2565</td>\n",
       "      <td>2698</td>\n",
       "      <td>293.0</td>\n",
       "      <td>275.0</td>\n",
       "      <td>342.0</td>\n",
       "      <td>261.0</td>\n",
       "      <td>2</td>\n",
       "    </tr>\n",
       "    <tr>\n",
       "      <th>2298</th>\n",
       "      <td>13871</td>\n",
       "      <td>-1568</td>\n",
       "      <td>8163</td>\n",
       "      <td>186</td>\n",
       "      <td>-40</td>\n",
       "      <td>6</td>\n",
       "      <td>157.0</td>\n",
       "      <td>325.0</td>\n",
       "      <td>451.0</td>\n",
       "      <td>354.0</td>\n",
       "      <td>3</td>\n",
       "    </tr>\n",
       "    <tr>\n",
       "      <th>2559</th>\n",
       "      <td>13103</td>\n",
       "      <td>-1000</td>\n",
       "      <td>9755</td>\n",
       "      <td>116</td>\n",
       "      <td>-646</td>\n",
       "      <td>345</td>\n",
       "      <td>155.0</td>\n",
       "      <td>333.0</td>\n",
       "      <td>475.0</td>\n",
       "      <td>461.0</td>\n",
       "      <td>3</td>\n",
       "    </tr>\n",
       "  </tbody>\n",
       "</table>\n",
       "</div>"
      ],
      "text/plain": [
       "         ax    ay     az    gx    gy    gz     d1     d2     d3     d4  target\n",
       "351   11819 -5040   9483   545  -855  -185  461.0  421.0  588.0  603.0       0\n",
       "3110  13051 -4224   9335   992 -1149   625  447.0  370.0  417.0  180.0       4\n",
       "1756  11939 -3120  10231  4631 -2565  2698  293.0  275.0  342.0  261.0       2\n",
       "2298  13871 -1568   8163   186   -40     6  157.0  325.0  451.0  354.0       3\n",
       "2559  13103 -1000   9755   116  -646   345  155.0  333.0  475.0  461.0       3"
      ]
     },
     "execution_count": 14,
     "metadata": {},
     "output_type": "execute_result"
    }
   ],
   "source": [
    "df_testing.head()"
   ]
  },
  {
   "cell_type": "code",
   "execution_count": 15,
   "metadata": {},
   "outputs": [
    {
     "data": {
      "text/html": [
       "<div>\n",
       "<style scoped>\n",
       "    .dataframe tbody tr th:only-of-type {\n",
       "        vertical-align: middle;\n",
       "    }\n",
       "\n",
       "    .dataframe tbody tr th {\n",
       "        vertical-align: top;\n",
       "    }\n",
       "\n",
       "    .dataframe thead th {\n",
       "        text-align: right;\n",
       "    }\n",
       "</style>\n",
       "<table border=\"1\" class=\"dataframe\">\n",
       "  <thead>\n",
       "    <tr style=\"text-align: right;\">\n",
       "      <th></th>\n",
       "      <th>ax</th>\n",
       "      <th>ay</th>\n",
       "      <th>az</th>\n",
       "      <th>gx</th>\n",
       "      <th>gy</th>\n",
       "      <th>gz</th>\n",
       "      <th>d1</th>\n",
       "      <th>d2</th>\n",
       "      <th>d3</th>\n",
       "      <th>d4</th>\n",
       "      <th>target</th>\n",
       "    </tr>\n",
       "  </thead>\n",
       "  <tbody>\n",
       "    <tr>\n",
       "      <th>351</th>\n",
       "      <td>11819</td>\n",
       "      <td>-5040</td>\n",
       "      <td>9483</td>\n",
       "      <td>545</td>\n",
       "      <td>-855</td>\n",
       "      <td>-185</td>\n",
       "      <td>461.0</td>\n",
       "      <td>421.0</td>\n",
       "      <td>588.0</td>\n",
       "      <td>603.0</td>\n",
       "      <td>0</td>\n",
       "    </tr>\n",
       "    <tr>\n",
       "      <th>3110</th>\n",
       "      <td>13051</td>\n",
       "      <td>-4224</td>\n",
       "      <td>9335</td>\n",
       "      <td>992</td>\n",
       "      <td>-1149</td>\n",
       "      <td>625</td>\n",
       "      <td>447.0</td>\n",
       "      <td>370.0</td>\n",
       "      <td>417.0</td>\n",
       "      <td>180.0</td>\n",
       "      <td>4</td>\n",
       "    </tr>\n",
       "    <tr>\n",
       "      <th>1756</th>\n",
       "      <td>11939</td>\n",
       "      <td>-3120</td>\n",
       "      <td>10231</td>\n",
       "      <td>4631</td>\n",
       "      <td>-2565</td>\n",
       "      <td>2698</td>\n",
       "      <td>293.0</td>\n",
       "      <td>275.0</td>\n",
       "      <td>342.0</td>\n",
       "      <td>261.0</td>\n",
       "      <td>2</td>\n",
       "    </tr>\n",
       "    <tr>\n",
       "      <th>2298</th>\n",
       "      <td>13871</td>\n",
       "      <td>-1568</td>\n",
       "      <td>8163</td>\n",
       "      <td>186</td>\n",
       "      <td>-40</td>\n",
       "      <td>6</td>\n",
       "      <td>157.0</td>\n",
       "      <td>325.0</td>\n",
       "      <td>451.0</td>\n",
       "      <td>354.0</td>\n",
       "      <td>3</td>\n",
       "    </tr>\n",
       "    <tr>\n",
       "      <th>2559</th>\n",
       "      <td>13103</td>\n",
       "      <td>-1000</td>\n",
       "      <td>9755</td>\n",
       "      <td>116</td>\n",
       "      <td>-646</td>\n",
       "      <td>345</td>\n",
       "      <td>155.0</td>\n",
       "      <td>333.0</td>\n",
       "      <td>475.0</td>\n",
       "      <td>461.0</td>\n",
       "      <td>3</td>\n",
       "    </tr>\n",
       "  </tbody>\n",
       "</table>\n",
       "</div>"
      ],
      "text/plain": [
       "         ax    ay     az    gx    gy    gz     d1     d2     d3     d4  target\n",
       "351   11819 -5040   9483   545  -855  -185  461.0  421.0  588.0  603.0       0\n",
       "3110  13051 -4224   9335   992 -1149   625  447.0  370.0  417.0  180.0       4\n",
       "1756  11939 -3120  10231  4631 -2565  2698  293.0  275.0  342.0  261.0       2\n",
       "2298  13871 -1568   8163   186   -40     6  157.0  325.0  451.0  354.0       3\n",
       "2559  13103 -1000   9755   116  -646   345  155.0  333.0  475.0  461.0       3"
      ]
     },
     "execution_count": 15,
     "metadata": {},
     "output_type": "execute_result"
    }
   ],
   "source": [
    "df_testing.head()"
   ]
  },
  {
   "cell_type": "markdown",
   "metadata": {},
   "source": [
    "## Creando la arquitectura de la red neuronal"
   ]
  },
  {
   "cell_type": "code",
   "execution_count": 16,
   "metadata": {},
   "outputs": [],
   "source": [
    "dim_input = 10\n",
    "n_categories = 5"
   ]
  },
  {
   "cell_type": "code",
   "execution_count": 17,
   "metadata": {},
   "outputs": [],
   "source": [
    "y_train = df_training.pop(\"target\")\n",
    "y_test = df_testing.pop(\"target\")"
   ]
  },
  {
   "cell_type": "code",
   "execution_count": 18,
   "metadata": {},
   "outputs": [
    {
     "name": "stdout",
     "output_type": "stream",
     "text": [
      "2766\n",
      "726\n"
     ]
    }
   ],
   "source": [
    "print(len(y_train))\n",
    "print(len(y_test))"
   ]
  },
  {
   "cell_type": "code",
   "execution_count": 19,
   "metadata": {},
   "outputs": [],
   "source": [
    "def getArrayLabels(array):\n",
    "    y_train_labels = np.array([])\n",
    "    y_train_labels = np.zeros((len(array), n_categories))\n",
    "    \n",
    "    for target in enumerate(array):\n",
    "        y_train_labels[target[0]][target[1]] = 1\n",
    "        \n",
    "    return y_train_labels"
   ]
  },
  {
   "cell_type": "code",
   "execution_count": 20,
   "metadata": {},
   "outputs": [],
   "source": [
    "y_train_labels = getArrayLabels(y_train)\n",
    "y_test_labels = getArrayLabels(y_test)"
   ]
  },
  {
   "cell_type": "code",
   "execution_count": 21,
   "metadata": {},
   "outputs": [
    {
     "data": {
      "text/plain": [
       "array([[1., 0., 0., 0., 0.],\n",
       "       [0., 0., 1., 0., 0.],\n",
       "       [1., 0., 0., 0., 0.],\n",
       "       ...,\n",
       "       [0., 0., 0., 0., 1.],\n",
       "       [0., 0., 0., 1., 0.],\n",
       "       [0., 1., 0., 0., 0.]])"
      ]
     },
     "execution_count": 21,
     "metadata": {},
     "output_type": "execute_result"
    }
   ],
   "source": [
    "y_train_labels"
   ]
  },
  {
   "cell_type": "code",
   "execution_count": 22,
   "metadata": {},
   "outputs": [
    {
     "data": {
      "text/plain": [
       "(2766, 5)"
      ]
     },
     "execution_count": 22,
     "metadata": {},
     "output_type": "execute_result"
    }
   ],
   "source": [
    "y_train_labels.shape"
   ]
  },
  {
   "cell_type": "code",
   "execution_count": 23,
   "metadata": {},
   "outputs": [],
   "source": [
    "# Creo un arreglo con los datos normalizados\n",
    "features = ['ax', 'ay', 'az', 'gx', 'gy', 'gz', 'd1', 'd2', 'd3', 'd4']\n",
    "\n",
    "x_train = df_training.loc[:, features].values\n",
    "x_train = StandardScaler().fit_transform(x_train)\n",
    "\n",
    "x_test = df_testing.loc[:, features].values\n",
    "x_test = StandardScaler().fit_transform(x_test)"
   ]
  },
  {
   "cell_type": "code",
   "execution_count": 24,
   "metadata": {},
   "outputs": [
    {
     "data": {
      "text/plain": [
       "array([[-0.4015918 , -1.26057633, -0.20434699, ...,  1.15616123,\n",
       "         1.32316447,  1.64663564],\n",
       "       [ 0.02928359,  0.52112023,  0.10110721, ..., -0.34521442,\n",
       "        -0.50566135, -0.37346753],\n",
       "       [-2.34668645, -0.52272392,  2.6284579 , ...,  1.45170762,\n",
       "         1.44090004,  1.7381811 ],\n",
       "       ...,\n",
       "       [-0.17179159, -1.04139076,  0.07395573, ...,  0.41138433,\n",
       "         0.45192127, -0.78847362],\n",
       "       [ 0.31243028,  0.84230305, -0.45549822, ...,  0.03308495,\n",
       "         0.34203474,  0.1880113 ],\n",
       "       [ 0.43964111,  0.23465988, -0.2631752 , ..., -0.71169194,\n",
       "        -0.81177383, -0.61148573]])"
      ]
     },
     "execution_count": 24,
     "metadata": {},
     "output_type": "execute_result"
    }
   ],
   "source": [
    "x_train"
   ]
  },
  {
   "cell_type": "code",
   "execution_count": 25,
   "metadata": {},
   "outputs": [],
   "source": [
    "x = tf.placeholder(tf.float32, [None, dim_input])"
   ]
  },
  {
   "cell_type": "code",
   "execution_count": 26,
   "metadata": {},
   "outputs": [],
   "source": [
    "W = tf.Variable(tf.zeros([dim_input,n_categories])) \n",
    "b = tf.Variable(tf.zeros([n_categories]))"
   ]
  },
  {
   "cell_type": "code",
   "execution_count": 27,
   "metadata": {},
   "outputs": [],
   "source": [
    "softmax_args = tf.matmul(x,W) + b\n",
    "y_hat = tf.nn.softmax(softmax_args)"
   ]
  },
  {
   "cell_type": "code",
   "execution_count": 28,
   "metadata": {},
   "outputs": [],
   "source": [
    "y_ = tf.placeholder(tf.float32, [None, n_categories])"
   ]
  },
  {
   "cell_type": "code",
   "execution_count": 29,
   "metadata": {},
   "outputs": [],
   "source": [
    "cross_entropy = tf.reduce_mean(-tf.reduce_sum(y_ * tf.log(y_hat), reduction_indices=[1]))"
   ]
  },
  {
   "cell_type": "code",
   "execution_count": 30,
   "metadata": {},
   "outputs": [],
   "source": [
    "train_step = tf.train.GradientDescentOptimizer(0.5).minimize(cross_entropy)"
   ]
  },
  {
   "cell_type": "code",
   "execution_count": 31,
   "metadata": {},
   "outputs": [],
   "source": [
    "session = tf.InteractiveSession()"
   ]
  },
  {
   "cell_type": "code",
   "execution_count": 32,
   "metadata": {},
   "outputs": [],
   "source": [
    "tf.global_variables_initializer().run()"
   ]
  },
  {
   "cell_type": "code",
   "execution_count": 33,
   "metadata": {},
   "outputs": [],
   "source": [
    "n_muestras = 150\n",
    "n_epocas = 100\n",
    "\n",
    "for step in range(n_epocas):\n",
    "    offset = (step * n_muestras) % (y_train_labels.shape[0] - n_muestras)\n",
    "    batch_x = x_train[offset:(offset + n_muestras), :]\n",
    "    batch_y = y_train_labels[offset:(offset + n_muestras)]\n",
    "            \n",
    "    session.run(train_step, feed_dict={x:batch_x, y_: batch_y})"
   ]
  },
  {
   "cell_type": "markdown",
   "metadata": {},
   "source": [
    "### Evaluando la red neuronal"
   ]
  },
  {
   "cell_type": "code",
   "execution_count": 34,
   "metadata": {},
   "outputs": [],
   "source": [
    "correct_predictions = tf.equal(tf.argmax(y_hat, 1), tf.argmax(y_,1))"
   ]
  },
  {
   "cell_type": "code",
   "execution_count": 35,
   "metadata": {},
   "outputs": [],
   "source": [
    "accuracy = tf.reduce_mean(tf.cast(correct_predictions, tf.float32))"
   ]
  },
  {
   "cell_type": "code",
   "execution_count": 36,
   "metadata": {},
   "outputs": [
    {
     "name": "stdout",
     "output_type": "stream",
     "text": [
      "0.9889807\n"
     ]
    }
   ],
   "source": [
    "print(session.run(accuracy, feed_dict={x: x_test, y_: y_test_labels}))"
   ]
  },
  {
   "cell_type": "code",
   "execution_count": null,
   "metadata": {},
   "outputs": [],
   "source": []
  }
 ],
 "metadata": {
  "kernelspec": {
   "display_name": "Python 3",
   "language": "python",
   "name": "python3"
  },
  "language_info": {
   "codemirror_mode": {
    "name": "ipython",
    "version": 3
   },
   "file_extension": ".py",
   "mimetype": "text/x-python",
   "name": "python",
   "nbconvert_exporter": "python",
   "pygments_lexer": "ipython3",
   "version": "3.7.3"
  }
 },
 "nbformat": 4,
 "nbformat_minor": 2
}
